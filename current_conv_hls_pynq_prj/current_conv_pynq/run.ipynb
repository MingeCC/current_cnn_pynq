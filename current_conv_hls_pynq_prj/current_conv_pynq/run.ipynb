{
 "cells": [
  {
   "cell_type": "code",
   "execution_count": 1,
   "metadata": {},
   "outputs": [
    {
     "data": {
      "application/javascript": [
       "\n",
       "try {\n",
       "require(['notebook/js/codecell'], function(codecell) {\n",
       "  codecell.CodeCell.options_default.highlight_modes[\n",
       "      'magic_text/x-csrc'] = {'reg':[/^%%microblaze/]};\n",
       "  Jupyter.notebook.events.one('kernel_ready.Kernel', function(){\n",
       "      Jupyter.notebook.get_cells().map(function(cell){\n",
       "          if (cell.cell_type == 'code'){ cell.auto_highlight(); } }) ;\n",
       "  });\n",
       "});\n",
       "} catch (e) {};\n"
      ]
     },
     "metadata": {},
     "output_type": "display_data"
    }
   ],
   "source": [
    "from pynq import Overlay\n",
    "from pynq import Xlnk\n",
    "import numpy as np"
   ]
  },
  {
   "cell_type": "code",
   "execution_count": 2,
   "metadata": {},
   "outputs": [],
   "source": [
    "chin = 3\n",
    "chout = 2\n",
    "kx = 2\n",
    "ky = 2\n",
    "win = 3\n",
    "hin = 3\n",
    "stride = 1\n",
    "padding = 0\n",
    "hout = 2\n",
    "wout = 2"
   ]
  },
  {
   "cell_type": "code",
   "execution_count": 8,
   "metadata": {},
   "outputs": [
    {
     "data": {
      "text/plain": [
       "True"
      ]
     },
     "execution_count": 8,
     "metadata": {},
     "output_type": "execute_result"
    }
   ],
   "source": [
    "# Load the overlay\n",
    "overlay = Overlay(\"design_1.bit\")\n",
    "conv = overlay.conv_0\n",
    "overlay.is_loaded()"
   ]
  },
  {
   "cell_type": "code",
   "execution_count": 9,
   "metadata": {},
   "outputs": [],
   "source": [
    "xlnk = Xlnk()\n",
    "# Allocate memory for input data\n",
    "feature_in = xlnk.cma_array(shape=(3, 3, 3), cacheable=0, dtype=np.float32)\n",
    "weight = xlnk.cma_array(shape=(2, 3, 2, 2), cacheable=0, dtype=np.float32)\n",
    "bias = xlnk.cma_array(shape=(2), dtype=np.float32)\n",
    "feature_out = xlnk.cma_array(shape=(2, 2, 2), dtype=np.float32)"
   ]
  },
  {
   "cell_type": "code",
   "execution_count": 37,
   "metadata": {},
   "outputs": [],
   "source": [
    "# Assign values to input data\n",
    "feature_in[:] = np.array([\n",
    "    [[1, 2.5, 1], \n",
    "     [1, 1, 1], \n",
    "     [1, 1, 1]],\n",
    "    \n",
    "    [[2, 2, 2], \n",
    "     [2, 2, 2], \n",
    "     [2, 2, 2]],\n",
    "    \n",
    "    [[1, 1, 1], \n",
    "     [1, 1, 1], \n",
    "     [1, 1, 1]]\n",
    "], dtype=np.float32)\n",
    "\n",
    "weight[:] = np.array([\n",
    "    [\n",
    "        [[1, 1], \n",
    "         [1, 1]],\n",
    "        \n",
    "        [[1, 1],\n",
    "         [1, 1]],\n",
    "        \n",
    "        [[1, 1],\n",
    "         [1, 1]],\n",
    "    ],\n",
    "    [\n",
    "        \n",
    "        [[2, 2],\n",
    "         [2, 2]],\n",
    "\n",
    "        [[2, 2], \n",
    "         [2, 2]],\n",
    "        \n",
    "        [[2, 2],\n",
    "         [2, 2]]\n",
    "    ]\n",
    "], dtype=np.float32)\n",
    "\n",
    "bias[:] = np.array([1.5, 1], dtype=np.float32)"
   ]
  },
  {
   "cell_type": "code",
   "execution_count": 38,
   "metadata": {},
   "outputs": [],
   "source": [
    "def Run_Conv(conv_ip, chin, chout, kx, ky, win, hin, stride, padding, feature_in, weight, bias, feature_out):\n",
    "    conv_ip.write(0x10, chin)\n",
    "    conv_ip.write(0x18, chout)\n",
    "    conv_ip.write(0x20, kx)\n",
    "    conv_ip.write(0x28, ky)\n",
    "    conv_ip.write(0x30, win)\n",
    "    conv_ip.write(0x38, hin)\n",
    "    conv_ip.write(0x40, stride)\n",
    "    conv_ip.write(0x48, padding)\n",
    "    conv_ip.write(0x50, feature_in.physical_address)\n",
    "    conv_ip.write(0x58, weight.physical_address)\n",
    "    conv_ip.write(0x68, bias.physical_address)\n",
    "    conv_ip.write(0x60, feature_out.physical_address)\n",
    "    conv_ip.write(0, (conv.read(0)&0x80)|0x01 ) #start conv IP\n",
    "    while True:\n",
    "        if conv_ip.read(0x00) & 0x2:  # 检查 ap_done 位\n",
    "            print('done')\n",
    "            break\n"
   ]
  },
  {
   "cell_type": "code",
   "execution_count": 39,
   "metadata": {},
   "outputs": [
    {
     "name": "stdout",
     "output_type": "stream",
     "text": [
      "done\n",
      "Convolution result:\n",
      "[[[ 19.   19. ]\n",
      "  [ 17.5  17.5]]\n",
      "\n",
      " [[ 36.   36. ]\n",
      "  [ 33.   33. ]]]\n"
     ]
    }
   ],
   "source": [
    "# Run convolution\n",
    "Run_Conv(conv, chin, chout, kx, ky, win, hin, stride, padding, feature_in, weight, bias, feature_out)\n",
    "\n",
    "print(\"Convolution result:\")\n",
    "print(feature_out)"
   ]
  },
  {
   "cell_type": "code",
   "execution_count": null,
   "metadata": {},
   "outputs": [],
   "source": []
  },
  {
   "cell_type": "code",
   "execution_count": null,
   "metadata": {},
   "outputs": [],
   "source": []
  },
  {
   "cell_type": "code",
   "execution_count": null,
   "metadata": {},
   "outputs": [],
   "source": []
  }
 ],
 "metadata": {
  "kernelspec": {
   "display_name": "Python 3",
   "language": "python",
   "name": "python3"
  },
  "language_info": {
   "codemirror_mode": {
    "name": "ipython",
    "version": 3
   },
   "file_extension": ".py",
   "mimetype": "text/x-python",
   "name": "python",
   "nbconvert_exporter": "python",
   "pygments_lexer": "ipython3",
   "version": "3.6.5"
  }
 },
 "nbformat": 4,
 "nbformat_minor": 4
}
