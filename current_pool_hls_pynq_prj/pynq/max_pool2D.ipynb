{
 "cells": [
  {
   "cell_type": "code",
   "execution_count": 3,
   "metadata": {},
   "outputs": [
    {
     "data": {
      "application/javascript": [
       "\n",
       "try {\n",
       "require(['notebook/js/codecell'], function(codecell) {\n",
       "  codecell.CodeCell.options_default.highlight_modes[\n",
       "      'magic_text/x-csrc'] = {'reg':[/^%%microblaze/]};\n",
       "  Jupyter.notebook.events.one('kernel_ready.Kernel', function(){\n",
       "      Jupyter.notebook.get_cells().map(function(cell){\n",
       "          if (cell.cell_type == 'code'){ cell.auto_highlight(); } }) ;\n",
       "  });\n",
       "});\n",
       "} catch (e) {};\n"
      ]
     },
     "metadata": {},
     "output_type": "display_data"
    }
   ],
   "source": [
    "from pynq import Overlay\n",
    "from pynq import Xlnk\n",
    "import numpy as np"
   ]
  },
  {
   "cell_type": "code",
   "execution_count": 4,
   "metadata": {},
   "outputs": [
    {
     "data": {
      "text/plain": [
       "True"
      ]
     },
     "execution_count": 4,
     "metadata": {},
     "output_type": "execute_result"
    }
   ],
   "source": [
    "# Load the overlay\n",
    "overlay = Overlay(\"current_pool2D.bit\")\n",
    "pool_2D = overlay.max_pool2_0\n",
    "overlay.is_loaded()"
   ]
  },
  {
   "cell_type": "code",
   "execution_count": 5,
   "metadata": {},
   "outputs": [],
   "source": [
    "xlnk = Xlnk()\n",
    "# Allocate memory for input data\n",
    "\n",
    "ch_in = 3\n",
    "h = 6\n",
    "w = 6\n",
    "\n",
    "h_o=h//2    # //为取整除法，确保h_o为整数，确保w_o为整数\n",
    "w_o=w//2  \n",
    "\n",
    " \n",
    "feature_in = xlnk.cma_array(shape=(ch_in, h, w), cacheable=0, dtype=np.float32)         # shape中的参数要确保是整数\n",
    "feature_out = xlnk.cma_array(shape=(ch_in, h_o, w_o), dtype=np.float32)     \n",
    "\n",
    "\n",
    "\n",
    "feature_in[:] = np.array([\n",
    "    [[0, 1, 1, 4, 5, 1], \n",
    "     [1, 1, 1, 6, 8, 3], \n",
    "     [1, 1, 1, 8, 2, 6],\n",
    "     [1, 1, 1, 8, 1, 3],\n",
    "     [1, 2, 1, 4, 3, 7],\n",
    "     [1, 1, 1, 8, 9, 6]],\n",
    "    \n",
    "    [[0, 1, 1, 4, 5, 1], \n",
    "     [1, 1, 1, 6, 8, 3], \n",
    "     [1, 1, 1, 8, 2, 6],\n",
    "     [1, 1, 1, 8, 1, 3],\n",
    "     [1, 2, 1, 4, 3, 7],\n",
    "     [1, 1, 1, 8, 9, 6]],\n",
    "    \n",
    "    [[0, 1, 1, 4, 5, 1], \n",
    "     [1, 1, 1, 6, 8, 3], \n",
    "     [1, 1, 1000, 8, 2, 6],\n",
    "     [1, 1, 1, 8, 1, 3],\n",
    "     [1, 2, 1, 4, 3, 7],\n",
    "     [1, 999, 1, 8, 9, 666]]\n",
    "], dtype=np.float32)"
   ]
  },
  {
   "cell_type": "code",
   "execution_count": 9,
   "metadata": {},
   "outputs": [],
   "source": [
    "def Run_maxpool2D(pool, chin, h, w, feature_in, feature_out):\n",
    "    pool.write(0x10,h)\n",
    "    pool.write(0x18,w)\n",
    "    pool.write(0x20,ch_in)\n",
    "    pool.write(0x28,feature_in.physical_address)\n",
    "    pool.write(0x30,feature_out.physical_address)\n",
    "    pool.write(0, (pool.read(0)&0x80)|0x01 ) #start conv IP\n",
    "    while True:\n",
    "        if pool.read(0x00) & 0x2:  # 检查 ap_done 位\n",
    "            print('done')\n",
    "            break\n",
    "            "
   ]
  },
  {
   "cell_type": "code",
   "execution_count": 10,
   "metadata": {},
   "outputs": [
    {
     "name": "stdout",
     "output_type": "stream",
     "text": [
      "done\n",
      "maxpool_2D result:\n",
      "[[[    1.     6.     8.]\n",
      "  [    1.     8.     6.]\n",
      "  [    2.     8.     9.]]\n",
      "\n",
      " [[    1.     6.     8.]\n",
      "  [    1.     8.     6.]\n",
      "  [    2.     8.     9.]]\n",
      "\n",
      " [[    1.     6.     8.]\n",
      "  [    1.  1000.     6.]\n",
      "  [  999.     8.   666.]]]\n"
     ]
    }
   ],
   "source": [
    "Run_maxpool2D(pool_2D, ch_in, h, w, feature_in, feature_out)\n",
    "print(\"maxpool_2D result:\")\n",
    "print(feature_out)"
   ]
  },
  {
   "cell_type": "code",
   "execution_count": null,
   "metadata": {},
   "outputs": [],
   "source": []
  },
  {
   "cell_type": "code",
   "execution_count": null,
   "metadata": {},
   "outputs": [],
   "source": []
  },
  {
   "cell_type": "code",
   "execution_count": null,
   "metadata": {},
   "outputs": [],
   "source": []
  }
 ],
 "metadata": {
  "kernelspec": {
   "display_name": "Python 3",
   "language": "python",
   "name": "python3"
  },
  "language_info": {
   "codemirror_mode": {
    "name": "ipython",
    "version": 3
   },
   "file_extension": ".py",
   "mimetype": "text/x-python",
   "name": "python",
   "nbconvert_exporter": "python",
   "pygments_lexer": "ipython3",
   "version": "3.6.5"
  }
 },
 "nbformat": 4,
 "nbformat_minor": 4
}
